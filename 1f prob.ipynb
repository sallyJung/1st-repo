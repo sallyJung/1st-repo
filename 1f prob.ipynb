{
 "cells": [
  {
   "cell_type": "code",
   "execution_count": null,
   "metadata": {},
   "outputs": [],
   "source": [
    "# Minimum Skew Problem\n",
    "# Find a position in a genome minimizing the skew.\n",
    "\n",
    "# Given: A DNA string Genome.\n",
    "\n",
    "# Return: All integer(s) i minimizing Skew(Prefixi (Text)) over all values of i (from 0 to |Genome|).\n",
    "\n",
    "\n",
    "def MinimumSkew(Genome):\n",
    "    # 최소 Skew를 저장할 리스트를 만든다.\n",
    "    # 최소 Skew를 저장할 변수를 만든다.\n",
    "    # skew 변수를 시작점 0 값으로 정의한다.\n",
    "    MinimumSkew = 0\n",
    "    MinSkew = []\n",
    "    Skew = 0\n",
    "\n",
    "    # 주어진 Genome 문자열 첫번째부터 끝까지 for문 반복\n",
    "    for i in range (len(Genome)):\n",
    "\n",
    "    # Skew에 추후 계산할 연산들을 계속 업데이트 한다.\n",
    "    # G일 경우 +1\n",
    "    # C일 경우 -1\n",
    "    # 그 외는 아무것도 skew 값에 업데이트 하지 않는다.\n",
    "        if Genome[i] == 'G':\n",
    "            Skew += 1\n",
    "        elif Genome[i] == 'C':\n",
    "            Skew -+ 1\n",
    "        else: quit\n",
    "        \n",
    "    # MinimumSkew를 업데이트 한다. 계산이 끝난 Skew와 이전의 MinimumSkew를 비교하여 Skew가 값이 작다면 MinimumSkew 리스트를 비우고 새로 저장한다. 값이 같다면 리스트에 추가해준다.\n",
    "        if Skew < MinimumSkew:\n",
    "            MinimumSkew = Skew\n",
    "            MinSkew.clear()\n",
    "            MinSkew.append(i)\n",
    "        elif Skew == MinimumSkew:\n",
    "            MinSkew.append(i)\n",
    "    return MinSkew\n",
    "\n",
    "Genome = 'CCTATCGGTGGATTAGCATGTCCCTGTACGTTTCGCCGCGAACTAGTTCACACGGCTTGATGGCAAATGGTTTTTCCGGCGACCGTAATCGTCCACCGAG'\n",
    "MinimumSkew(Genome)"
   ]
  }
 ],
 "metadata": {
  "language_info": {
   "name": "python"
  }
 },
 "nbformat": 4,
 "nbformat_minor": 2
}
